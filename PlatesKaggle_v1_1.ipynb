{
  "cells": [
    {
      "cell_type": "markdown",
      "metadata": {
        "id": "view-in-github",
        "colab_type": "text"
      },
      "source": [
        "<a href=\"https://colab.research.google.com/github/Sokolov-AA/ML_Study/blob/main/PlatesKaggle_v1_1.ipynb\" target=\"_parent\"><img src=\"https://colab.research.google.com/assets/colab-badge.svg\" alt=\"Open In Colab\"/></a>"
      ]
    },
    {
      "cell_type": "code",
      "execution_count": null,
      "metadata": {
        "id": "L77KIBfvGuWE"
      },
      "outputs": [],
      "source": [
        "# !pip install kaggle\n",
        "\n",
        "# from google.colab import files\n",
        "\n",
        "# uploaded = files.upload()\n",
        "\n",
        "# for fn in uploaded.keys():\n",
        "#   print('User uploaded file \"{name}\" with length {length} bytes'.format(\n",
        "#       name=fn, length=len(uploaded[fn])))\n",
        "  \n",
        "# # Then move kaggle.json into the folder where the API expects to find it.\n",
        "# !mkdir -p ~/.kaggle/ && mv kaggle.json ~/.kaggle/ && chmod 600 ~/.kaggle/kaggle.json\n",
        "\n",
        "# !kaggle competitions download -c platesv2\n",
        "# !unzip platesv2.zip\n",
        "# !unzip plates.zip\n",
        "\n",
        "# !mv /content/plates/test /content/plates/unknown\n",
        "# !mkdir /content/plates/test\n",
        "# !mv /content/plates/unknown /content/plates/test/unknown\n",
        "\n",
        "# import os\n",
        "# import shutil\n",
        "\n",
        "# def split_sample(src_folder, dst_folder_train, dst_folder_validation, validation_count, file_type='.jpg'):\n",
        "#   os.makedirs(dst_folder_train)\n",
        "#   os.makedirs(dst_folder_validation)\n",
        "\n",
        "#   for dirs, folder, files in os.walk(src_folder):\n",
        "#     images = list(filter(lambda file: file.endswith(file_type), files))\n",
        "#     for i in range(len(images)):\n",
        "#       if i < validation_count:\n",
        "#         shutil.copyfile(src_folder + images[i], dst_folder_validation + images[i])\n",
        "#       else:\n",
        "#         shutil.copyfile(src_folder + images[i], dst_folder_train + images[i])\n",
        "\n",
        "\n",
        "# split_sample('/content/plates/train/cleaned/', \n",
        "#              '/content/plates/modified/train/cleaned/', \n",
        "#              '/content/plates/modified/validation/cleaned/',\n",
        "#              validation_count=4,\n",
        "#              file_type='.jpg'\n",
        "#              )\n",
        "\n",
        "# split_sample('/content/plates/train/dirty/', \n",
        "#              '/content/plates/modified/train/dirty/', \n",
        "#              '/content/plates/modified/validation/dirty/',\n",
        "#              validation_count=4,\n",
        "#              file_type='.jpg'\n",
        "#              )\n",
        "\n",
        "train_sample_path = '/content/plates/modified/train/'\n",
        "validation_sample_path = '/content/plates/modified/validation/'"
      ]
    },
    {
      "cell_type": "code",
      "execution_count": null,
      "metadata": {
        "colab": {
          "base_uri": "https://localhost:8080/"
        },
        "id": "jxgEHKblKmGn",
        "outputId": "b64830fd-f0ef-49a4-ecc6-47116e705fa5"
      },
      "outputs": [
        {
          "output_type": "stream",
          "name": "stdout",
          "text": [
            "TensorFlow verison: 2.8.2\n"
          ]
        }
      ],
      "source": [
        "import numpy as np\n",
        "import matplotlib.pyplot as plt\n",
        "\n",
        "import tensorflow as tf\n",
        "from tensorflow import keras\n",
        "from tensorflow.keras.preprocessing import image_dataset_from_directory\n",
        "from tensorflow.keras.preprocessing.image import ImageDataGenerator, load_img, img_to_array\n",
        "\n",
        "\n",
        "print(\"TensorFlow verison:\", tf.__version__)"
      ]
    },
    {
      "cell_type": "code",
      "execution_count": null,
      "metadata": {
        "colab": {
          "base_uri": "https://localhost:8080/"
        },
        "id": "gATQs8omP8xh",
        "outputId": "61352933-8135-4e55-f6ee-8fe28609f2cf"
      },
      "outputs": [
        {
          "output_type": "stream",
          "name": "stdout",
          "text": [
            "Found 32 images belonging to 2 classes.\n",
            "Found 8 images belonging to 2 classes.\n"
          ]
        }
      ],
      "source": [
        "seed = 42\n",
        "batch_size=8\n",
        "\n",
        "datagen_train = ImageDataGenerator(\n",
        "        rotation_range=300,\n",
        "        shear_range=0.2,\n",
        "        zoom_range=0.4,\n",
        "        channel_shift_range=255,\n",
        "        horizontal_flip=True,\n",
        "        vertical_flip=True,\n",
        "        fill_mode='nearest')\n",
        "\n",
        "datagen_validation = ImageDataGenerator()\n",
        "\n",
        "ds_train_flow = datagen_train.flow_from_directory(\n",
        "    directory=train_sample_path,\n",
        "    shuffle=True,\n",
        "    color_mode='rgb',\n",
        "    class_mode='binary',\n",
        "    batch_size=batch_size,\n",
        "    target_size=(224, 224))\n",
        "\n",
        "ds_validation_flow = datagen_validation.flow_from_directory(\n",
        "    directory=validation_sample_path,\n",
        "    shuffle=True,\n",
        "    color_mode='rgb',\n",
        "    class_mode='binary',\n",
        "    batch_size=batch_size,\n",
        "    target_size=(224, 224))"
      ]
    },
    {
      "cell_type": "code",
      "execution_count": null,
      "metadata": {
        "id": "0zgYtH1z2VLd"
      },
      "outputs": [],
      "source": [
        "base_model = keras.applications.ResNet50(weights='imagenet', include_top=False)\n",
        "base_model.trainable = False\n",
        "#base_model.summary()"
      ]
    },
    {
      "cell_type": "code",
      "execution_count": null,
      "metadata": {
        "id": "19n9Z3YWg7t8"
      },
      "outputs": [],
      "source": [
        "model = keras.Sequential([\n",
        "    keras.layers.Input(shape=(224,224,3), batch_size=batch_size),\n",
        "    base_model,\n",
        "    keras.layers.Flatten(),\n",
        "    keras.layers.Dense(64, activation='relu', kernel_regularizer='l2'),\n",
        "    keras.layers.BatchNormalization(),\n",
        "    keras.layers.Dropout(0.2),\n",
        "    keras.layers.Dense(1, activation='sigmoid', kernel_regularizer='l2')\n",
        "])\n",
        "\n",
        "initial_learning_rate = 0.001\n",
        "lr_schedule = tf.keras.optimizers.schedules.ExponentialDecay(\n",
        "    initial_learning_rate,\n",
        "    decay_steps=5,\n",
        "    decay_rate=0.96,\n",
        "    staircase=True)\n",
        "\n",
        "model.compile(\n",
        "  optimizer=keras.optimizers.Adam(learning_rate=lr_schedule),\n",
        "  loss=\"binary_crossentropy\",\n",
        "  metrics=['accuracy'])"
      ]
    },
    {
      "cell_type": "code",
      "execution_count": null,
      "metadata": {
        "id": "BasUMfWbg5lT"
      },
      "outputs": [],
      "source": [
        "model.fit(\n",
        "    ds_train_flow,\n",
        "    validation_data=ds_validation_flow,\n",
        "    epochs=100\n",
        "  )\n",
        "\n",
        "history = model.history"
      ]
    },
    {
      "cell_type": "code",
      "execution_count": null,
      "metadata": {
        "id": "W0_CuMA5p5r_"
      },
      "outputs": [],
      "source": [
        "import pandas as pd\n",
        "\n",
        "history_frame = pd.DataFrame(history.history)\n",
        "history_frame.loc[:, ['loss', 'val_loss']].plot()\n",
        "history_frame.loc[:, ['accuracy', 'val_accuracy']].plot();"
      ]
    },
    {
      "cell_type": "code",
      "source": [
        "ds_test_ = keras.preprocessing.image_dataset_from_directory(\n",
        "    \"/content/plates/test/\", \n",
        "    image_size=[256, 341],\n",
        "    shuffle=False\n",
        ")\n",
        "\n",
        "ds_test = (\n",
        "    ds_test_\n",
        "    .map(resize_image)\n",
        "    .cache()\n",
        ")\n",
        "\n",
        "prediction = model.predict(ds_test)\n",
        "\n",
        "test_prediction = [prediction[i][0] for i in range(len(prediction))]\n",
        "submission_df = pd.DataFrame.from_dict({'id': ds_test_.file_paths, 'label': test_prediction})\n",
        "\n",
        "submission_df['label'] = submission_df['label'].map(lambda pred: 'dirty' if pred > 0.5 else 'cleaned')\n",
        "submission_df['id'] = submission_df['id'].str.replace('/content/plates/test/unknown/', '')\n",
        "submission_df['id'] = submission_df['id'].str.replace('.jpg', '')\n",
        "submission_df.set_index('id', inplace=True)\n",
        "\n",
        "submission_df.head(n=10)\n",
        "\n",
        "submission_df.to_csv('submission.csv')"
      ],
      "metadata": {
        "id": "iJoAjxfXAKCS"
      },
      "execution_count": null,
      "outputs": []
    },
    {
      "cell_type": "code",
      "source": [
        "ds_train_all_ = keras.preprocessing.image_dataset_from_directory(\n",
        "    \"/content/plates/train/\", \n",
        "    image_size=[256, 341],\n",
        "    shuffle=False\n",
        ")\n",
        "\n",
        "ds_train_all = (\n",
        "    ds_train_all_\n",
        "    .map(resize_image)\n",
        "    .cache()\n",
        ")\n",
        "\n",
        "prediction_train_all = model.predict(ds_train_all)\n",
        "\n",
        "train_prediction = [prediction_train_all[i][0] for i in range(len(prediction_train_all))]\n",
        "submission_df = pd.DataFrame.from_dict({'id': ds_train_all_.file_paths, 'label': train_prediction})\n",
        "\n",
        "submission_df['label'] = submission_df['label'].map(lambda pred: 'dirty' if pred > 0.5 else 'cleaned')\n",
        "submission_df['id'] = submission_df['id'].str.replace('/content/plates/test/unknown/', '')\n",
        "submission_df['id'] = submission_df['id'].str.replace('.jpg', '')\n",
        "submission_df.set_index('id', inplace=True)\n",
        "\n",
        "submission_df.head(n=40)"
      ],
      "metadata": {
        "id": "jkq71EyT8wuq"
      },
      "execution_count": null,
      "outputs": []
    }
  ],
  "metadata": {
    "colab": {
      "collapsed_sections": [],
      "name": "PlatesKaggle_v1.0.ipynb",
      "provenance": [],
      "authorship_tag": "ABX9TyP4sxdgfNuqV1df3002GUlf",
      "include_colab_link": true
    },
    "gpuClass": "standard",
    "kernelspec": {
      "display_name": "Python 3",
      "name": "python3"
    },
    "language_info": {
      "name": "python"
    }
  },
  "nbformat": 4,
  "nbformat_minor": 0
}